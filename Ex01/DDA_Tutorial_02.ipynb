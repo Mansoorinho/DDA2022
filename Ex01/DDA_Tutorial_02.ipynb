{
 "cells": [
  {
   "cell_type": "markdown",
   "id": "85ca8994",
   "metadata": {},
   "source": [
    "# Mansoor Nabawi, 309498.\n",
    "### Tutorial 2, DDA 05.05.2022"
   ]
  },
  {
   "cell_type": "markdown",
   "id": "38005ac8",
   "metadata": {},
   "source": [
    "# Exercise 0 "
   ]
  },
  {
   "cell_type": "markdown",
   "id": "240a8d0f",
   "metadata": {},
   "source": [
    "| Name   | Specification    | \n",
    "|:-------------|:-----------|\n",
    "| Memory | 4.7 GiB | \n",
    "| Processor | Intel® Core™ i5-8250U CPU @ 1.60GHz × 4  |\n",
    "| Number of CPUs | 4 | \n",
    "| GNOME | Version 3.32.2 | \n",
    "| OS type | 64-bit | \n",
    "| Virtualization | Oracle | \n",
    "| Disk | 110 GB | \n",
    "| Python | 3.8.8 | \n",
    "| IDLE | Jupyter-notebook/Spyder | \n"
   ]
  },
  {
   "cell_type": "markdown",
   "id": "78961272",
   "metadata": {},
   "source": [
    "I am using a CentOS8 on VirtualBox with above specification"
   ]
  },
  {
   "cell_type": "markdown",
   "id": "208ece04",
   "metadata": {},
   "source": [
    "# Exercise 1"
   ]
  },
  {
   "cell_type": "markdown",
   "id": "4ca91e54",
   "metadata": {},
   "source": [
    "### *In all the exercises we divided datas into batches so each process takes it's own part and only master process reduce the tasks at the end.*"
   ]
  },
  {
   "cell_type": "markdown",
   "id": "93bcca1b",
   "metadata": {},
   "source": [
    "## 1.A"
   ]
  },
  {
   "cell_type": "code",
   "execution_count": 44,
   "id": "6e0caa03",
   "metadata": {
    "scrolled": true
   },
   "outputs": [
    {
     "name": "stdout",
     "output_type": "stream",
     "text": [
      "Overwriting ex01.py\n"
     ]
    }
   ],
   "source": [
    "%%writefile ex01.py\n",
    "\n",
    "from mpi4py import MPI\n",
    "import numpy as np\n",
    "\n",
    "#initializing communicators\n",
    "comm = MPI.COMM_WORLD\n",
    "rank = comm.Get_rank()\n",
    "size = comm.Get_size()\n",
    "\n",
    "#stat = MPI.Status()\n",
    "\n",
    "\n",
    "#size of array\n",
    "N=10**8\n",
    "#print(size)\n",
    "#print(rank)\n",
    "\n",
    "#how many elements per rank we can take?\n",
    "Batch = round(N/size)\n",
    "\n",
    "#sum using plus\n",
    "def sum_vec(a,b):\n",
    "  z = a+b\n",
    "  return z\n",
    "\n",
    "#sum by adding each element together\n",
    "def sum_vec_(a,b):\n",
    "  L = len(a)\n",
    "  z = np.zeros(L)\n",
    "  for i in range(L):\n",
    "    z[i] = a[i] + b[i]\n",
    "  return z\n",
    "\n",
    "#timing\n",
    "t1 = MPI.Wtime()\n",
    "\n",
    "# master process\n",
    "if rank == 0:\n",
    "    \n",
    "    #creating sample data\n",
    "    data1 = np.random.random(size = (N,1))\n",
    "    data2 = np.random.random(size = (N,1))\n",
    "    \n",
    "    #stacking data together to send to other processes\n",
    "    data = np.hstack([data1, data1])\n",
    "    # master process sends data to worker processes by\n",
    "    # going through the ranks of all worker processes\n",
    "    for i in range(1, size):\n",
    "        \n",
    "        #sending the matrices\n",
    "        comm.Send(data, dest=i, tag=i)\n",
    "        #print(f'From Process {rank} to -> process {i}\\n Data: \\n{subs[i]}')\n",
    "    \n",
    "    #computing the sum of the batch of data for process 0\n",
    "    res = sum_vec(data[(Batch*rank):(Batch*(1+rank)),0], data[(Batch*rank):(Batch*(1+rank)),0])\n",
    "    \n",
    "    #receiving and doing final summation\n",
    "    final_dt = [res]\n",
    "    for i in range(1,size):#all processes except 0\n",
    "        #shape of data\n",
    "        shp_ = np.empty(1, dtype=int)#buffer\n",
    "        comm.Recv(shp_, source=i, tag=i+size*2)\n",
    "        \n",
    "        #data itself\n",
    "        data_f = np.empty((shp_[0],))#buffer\n",
    "        comm.Recv(data_f, source=i, tag=i+size*3)\n",
    "        final_dt.append(data_f)\n",
    "    \n",
    "    #concatenating to get the final result\n",
    "    final_res = np.concatenate(final_dt, axis=0)\n",
    "    #print(\"final result: \",final_res)\n",
    "    #print(\"finallyyyyy....\",final_res.shape)\n",
    "\n",
    "    print(\"Time in rank 0 is:\", MPI.Wtime()-t1)\n",
    "\n",
    "\n",
    "# worker processes\n",
    "\n",
    "else:\n",
    "    #receicing data and performing actions\n",
    "    data_ = np.empty((N,2))\n",
    "    comm.Recv(data_, source=0, tag=rank)\n",
    "    \n",
    "    #summation\n",
    "    res = sum_vec(data_[(Batch*rank):(Batch*(1+rank)),0], data_[(Batch*rank):(Batch*(1+rank)),0])\n",
    "    #sending the shape of data\n",
    "    shp = np.array(res.shape[0], dtype=int)\n",
    "    comm.Send(shp, dest=0, tag=size*2+rank)\n",
    "    #sending data itself\n",
    "    comm.Send(res, dest=0, tag=rank+size*3)\n",
    "    \n",
    "    #print(\"Time in rank {} is:\".format(rank), MPI.Wtime()-t1_)\n",
    "    #print('Process {} received data:'.format(rank), data_.shape)\n",
    "   # print(f'\\nResult sent \\n From Process {rank} to -> process {0}\\n Data: \\n{res}')"
   ]
  },
  {
   "cell_type": "code",
   "execution_count": 2,
   "id": "0a4c691f",
   "metadata": {},
   "outputs": [],
   "source": [
    "#N=10**5"
   ]
  },
  {
   "cell_type": "code",
   "execution_count": 3,
   "id": "b15ba2c8",
   "metadata": {},
   "outputs": [
    {
     "name": "stdout",
     "output_type": "stream",
     "text": [
      "Time in rank 0 is: 0.005569934844970703\r\n"
     ]
    }
   ],
   "source": [
    "!mpiexec -np 1 python ex01.py"
   ]
  },
  {
   "cell_type": "code",
   "execution_count": 4,
   "id": "4b412287",
   "metadata": {},
   "outputs": [
    {
     "name": "stdout",
     "output_type": "stream",
     "text": [
      "Time in rank 0 is: 0.03367304801940918\r\n"
     ]
    }
   ],
   "source": [
    "!mpiexec -np 2 python ex01.py"
   ]
  },
  {
   "cell_type": "code",
   "execution_count": 5,
   "id": "7a51f377",
   "metadata": {},
   "outputs": [
    {
     "name": "stdout",
     "output_type": "stream",
     "text": [
      "Time in rank 0 is: 0.007166147232055664\r\n"
     ]
    }
   ],
   "source": [
    "!mpiexec -np 3 python ex01.py"
   ]
  },
  {
   "cell_type": "code",
   "execution_count": 6,
   "id": "38204037",
   "metadata": {
    "scrolled": false
   },
   "outputs": [
    {
     "name": "stdout",
     "output_type": "stream",
     "text": [
      "Time in rank 0 is: 0.009217977523803711\r\n"
     ]
    }
   ],
   "source": [
    "!mpiexec -np 4 python ex01.py"
   ]
  },
  {
   "cell_type": "code",
   "execution_count": 8,
   "id": "9314f3ba",
   "metadata": {},
   "outputs": [],
   "source": [
    "#N=10**6"
   ]
  },
  {
   "cell_type": "code",
   "execution_count": 13,
   "id": "a2aab59d",
   "metadata": {},
   "outputs": [
    {
     "name": "stdout",
     "output_type": "stream",
     "text": [
      "Time in rank 0 is: 0.04259800910949707\r\n"
     ]
    }
   ],
   "source": [
    "!mpiexec -np 1 python ex01.py"
   ]
  },
  {
   "cell_type": "code",
   "execution_count": 14,
   "id": "238b6871",
   "metadata": {},
   "outputs": [
    {
     "name": "stdout",
     "output_type": "stream",
     "text": [
      "Time in rank 0 is: 0.04929089546203613\r\n"
     ]
    }
   ],
   "source": [
    "!mpiexec -np 2 python ex01.py"
   ]
  },
  {
   "cell_type": "code",
   "execution_count": 15,
   "id": "af8aa8b8",
   "metadata": {},
   "outputs": [
    {
     "name": "stdout",
     "output_type": "stream",
     "text": [
      "Time in rank 0 is: 0.0678260326385498\r\n"
     ]
    }
   ],
   "source": [
    "!mpiexec -np 3 python ex01.py"
   ]
  },
  {
   "cell_type": "code",
   "execution_count": 16,
   "id": "d41f1ea9",
   "metadata": {
    "scrolled": true
   },
   "outputs": [
    {
     "name": "stdout",
     "output_type": "stream",
     "text": [
      "Time in rank 0 is: 0.05819201469421387\r\n"
     ]
    }
   ],
   "source": [
    "!mpiexec -np 4 python ex01.py"
   ]
  },
  {
   "cell_type": "code",
   "execution_count": 18,
   "id": "7acd8921",
   "metadata": {},
   "outputs": [],
   "source": [
    "#N=10**7"
   ]
  },
  {
   "cell_type": "code",
   "execution_count": 24,
   "id": "cd938300",
   "metadata": {},
   "outputs": [
    {
     "name": "stdout",
     "output_type": "stream",
     "text": [
      "Time in rank 0 is: 0.4012110233306885\r\n"
     ]
    }
   ],
   "source": [
    "!mpiexec -np 1 python ex01.py"
   ]
  },
  {
   "cell_type": "code",
   "execution_count": 25,
   "id": "1b05eb8a",
   "metadata": {},
   "outputs": [
    {
     "name": "stdout",
     "output_type": "stream",
     "text": [
      "Time in rank 0 is: 0.43552303314208984\r\n"
     ]
    }
   ],
   "source": [
    "!mpiexec -np 2 python ex01.py"
   ]
  },
  {
   "cell_type": "code",
   "execution_count": 26,
   "id": "96662415",
   "metadata": {},
   "outputs": [
    {
     "name": "stdout",
     "output_type": "stream",
     "text": [
      "Time in rank 0 is: 0.48368406295776367\r\n"
     ]
    }
   ],
   "source": [
    "!mpiexec -np 3 python ex01.py"
   ]
  },
  {
   "cell_type": "code",
   "execution_count": 27,
   "id": "03d35c17",
   "metadata": {
    "scrolled": true
   },
   "outputs": [
    {
     "name": "stdout",
     "output_type": "stream",
     "text": [
      "Time in rank 0 is: 0.5306990146636963\r\n"
     ]
    }
   ],
   "source": [
    "!mpiexec -np 4 python ex01.py"
   ]
  },
  {
   "cell_type": "code",
   "execution_count": 149,
   "id": "79f1f859",
   "metadata": {},
   "outputs": [],
   "source": [
    "#N=10**8"
   ]
  },
  {
   "cell_type": "code",
   "execution_count": 29,
   "id": "ce73626f",
   "metadata": {},
   "outputs": [
    {
     "name": "stdout",
     "output_type": "stream",
     "text": [
      "Time in rank 0 is: 14.720407009124756\r\n"
     ]
    }
   ],
   "source": [
    "!mpiexec -np 1 python ex01.py"
   ]
  },
  {
   "cell_type": "code",
   "execution_count": 30,
   "id": "52cbbf39",
   "metadata": {},
   "outputs": [
    {
     "name": "stdout",
     "output_type": "stream",
     "text": [
      "Time in rank 0 is: 51.952938079833984\r\n"
     ]
    }
   ],
   "source": [
    "!mpiexec -np 2 python ex01.py"
   ]
  },
  {
   "cell_type": "code",
   "execution_count": 31,
   "id": "f42c58a0",
   "metadata": {},
   "outputs": [
    {
     "name": "stdout",
     "output_type": "stream",
     "text": [
      "Traceback (most recent call last):\r\n",
      "  File \"ex01.py\", line 58, in <module>\r\n",
      "    final_res = np.concatenate(final_dt, axis=0)\r\n",
      "  File \"<__array_function__ internals>\", line 5, in concatenate\r\n",
      "numpy.core._exceptions.MemoryError: Unable to allocate 763. MiB for an array with shape (99999999,) and data type float64\r\n"
     ]
    }
   ],
   "source": [
    "!mpiexec -np 3 python ex01.py"
   ]
  },
  {
   "cell_type": "code",
   "execution_count": 32,
   "id": "08c9b6b8",
   "metadata": {
    "scrolled": false
   },
   "outputs": [
    {
     "name": "stdout",
     "output_type": "stream",
     "text": [
      "\n",
      "===================================================================================\n",
      "=   BAD TERMINATION OF ONE OF YOUR APPLICATION PROCESSES\n",
      "=   PID 14481 RUNNING AT mansoor\n",
      "=   EXIT CODE: 9\n",
      "=   CLEANING UP REMAINING PROCESSES\n",
      "=   YOU CAN IGNORE THE BELOW CLEANUP MESSAGES\n",
      "===================================================================================\n",
      "YOUR APPLICATION TERMINATED WITH THE EXIT STRING: Killed (signal 9)\n",
      "This typically refers to a problem with your application.\n",
      "Please see the FAQ page for debugging suggestions\n"
     ]
    }
   ],
   "source": [
    "!mpiexec -np 4 python ex01.py"
   ]
  },
  {
   "cell_type": "markdown",
   "id": "32f2faa7",
   "metadata": {},
   "source": [
    "----------\n",
    "## $\\color{red}{\\text{Report 1.A}}$\n",
    "----------------\n",
    "#### Table of Times for 1.A"
   ]
  },
  {
   "cell_type": "markdown",
   "id": "d65226d6",
   "metadata": {},
   "source": [
    "| N   | P=1    | P=2    | P=3    | P=4    | \n",
    "|:-------------|:-----------|:-----------|:-----------|:-----------|\n",
    "| 10**5   | 0.0055    | 0.0336    |   0.00716  |   0.0092  | \n",
    "| 10**6   | 0.04259    | 0.0492   |  0.0678  |  0.05819   | \n",
    "| 10**7   | 0.4012    | 0.435    | 0.4836    |  0.5306   | \n",
    "| 10**8   | 14.7204    | 51.952    | MemoryError    | EXIT CODE: 9    | "
   ]
  },
  {
   "cell_type": "markdown",
   "id": "a341bf69",
   "metadata": {},
   "source": [
    "- As it is visible from the above table, by increasing the number of workers only in **N=10^5** with p=3 it had better performance than p=2 but p=1 is the fastest.\n",
    "\n",
    "- Also in **N=10^6**, we see that when using 4 workers it has slightly better performance than using 3 workers, but still the p=1 is the fastest.\n",
    "\n",
    "- in **N=10^8**, it takes longer to compute and with p=3 we get a MemoryError and with p=4 the program is terminated\n",
    "------------"
   ]
  },
  {
   "cell_type": "markdown",
   "id": "e9eb4f86",
   "metadata": {},
   "source": [
    "**$\\color{green}{\\text{Strategy}}$**\n",
    "------------------\n",
    "$\\color{Blue}{\\text{When Rank==0:}}$\n",
    "\n",
    "0. First We make a batch based on the data size and number of workers.\n",
    "1. Rank0 always start the program by initializing the matrices.\n",
    "2. Next we stack the data together to send it to other processes easily.\n",
    "3. Rank0 send the stacked data to all other processes with a specific tag.\n",
    "4. Rank0 itself receives the batch of the data and perform the summation.\n",
    "5. Rank0 waits until other processes do their task and send the data to Rank0, as soon as it receives the data it first append to a list and at final stage it concatenate all members of the list to make the final data.\n",
    "\n",
    "$\\color{brown}{\\text{When Other Ranks:}}$\n",
    "\n",
    "0. Since we use Send/Recv we need to create a buffer before receiving the data.\n",
    "1. The data is received from process 0 to other processes, the data is put in the buffer.\n",
    "2. The summation is peformed and the result is going to be sent to the main process, but first the shape is sent to be used for size buffer for the data.\n",
    "3. The result is sent to process 0\n",
    "\n",
    "End:\n",
    "- After all the processors did their task and sent their data back to master processor, the program will end"
   ]
  },
  {
   "cell_type": "code",
   "execution_count": 33,
   "id": "abfc41f0",
   "metadata": {},
   "outputs": [],
   "source": [
    "### Just checking with another way of matrix summation"
   ]
  },
  {
   "cell_type": "code",
   "execution_count": 38,
   "id": "566532c5",
   "metadata": {},
   "outputs": [
    {
     "name": "stdout",
     "output_type": "stream",
     "text": [
      "Overwriting ex01_.py\n"
     ]
    }
   ],
   "source": [
    "%%writefile ex01_.py\n",
    "\n",
    "from mpi4py import MPI\n",
    "import numpy as np\n",
    "\n",
    "comm = MPI.COMM_WORLD\n",
    "rank = comm.Get_rank()\n",
    "size = comm.Get_size()\n",
    "\n",
    "stat = MPI.Status()\n",
    "\n",
    "\n",
    "#size of array\n",
    "N=10**7\n",
    "#print(size)\n",
    "#print(rank)\n",
    "\n",
    "Batch = round(N/size)\n",
    "\n",
    "def sum_vec(a,b):\n",
    "  z = a+b\n",
    "  return z\n",
    "\n",
    "def sum_vec_(a,b):\n",
    "  L = len(a)\n",
    "  z = np.zeros(L)\n",
    "  for i in range(L):\n",
    "    z[i] = a[i] + b[i]\n",
    "  return z\n",
    "\n",
    "t1 = MPI.Wtime()\n",
    "# master process\n",
    "if rank == 0:\n",
    "\n",
    "    data1 = np.random.random(size = (N,1))\n",
    "    data2 = np.random.random(size = (N,1))\n",
    "    \n",
    "    data = np.hstack([data1, data1])\n",
    "    # master process sends data to worker processes by\n",
    "    # going through the ranks of all worker processes\n",
    "    for i in range(1, size):\n",
    "        \n",
    "        #sending the matrices\n",
    "        comm.Send(data, dest=i, tag=i)\n",
    "        #print(f'From Process {rank} to -> process {i}\\n Data: \\n{subs[i]}')\n",
    "\n",
    "    res = sum_vec_(data[(Batch*rank):(Batch*(1+rank)),0], data[(Batch*rank):(Batch*(1+rank)),0])\n",
    "    \n",
    "    #receiving and doing final summation\n",
    "    final_dt = [res]\n",
    "    for i in range(1,size):\n",
    "        shp_ = np.empty(1, dtype=int)\n",
    "        comm.Recv(shp_, source=i, tag=i+size*2)\n",
    "         \n",
    "        data_f = np.empty((shp_[0],))\n",
    "        comm.Recv(data_f, source=i, tag=i+size*3)\n",
    "        final_dt.append(data_f)\n",
    "    \n",
    "    final_res = np.concatenate(final_dt, axis=0)\n",
    "    #print(\"final result: \",final_res)\n",
    "    #print(\"finallyyyyy....\",final_res.shape)\n",
    "\n",
    "    print(\"Time in rank 0 is:\", MPI.Wtime()-t1)\n",
    "\n",
    "\n",
    "# worker processes\n",
    "\n",
    "else:\n",
    "\n",
    "    data_ = np.empty((N,2))\n",
    "    comm.Recv(data_, source=0, tag=rank)\n",
    "    \n",
    "    #for i in range(100):\n",
    "    res = sum_vec_(data_[(Batch*rank):(Batch*(1+rank)),0], data_[(Batch*rank):(Batch*(1+rank)),0])\n",
    "    #data_r = sum_vec(data_[:,0], data_[:,1])\n",
    "    \n",
    "    shp = np.array(res.shape[0], dtype=int)\n",
    "    comm.Send(shp, dest=0, tag=size*2+rank)\n",
    "    comm.Send(res, dest=0, tag=rank+size*3)\n",
    "    \n",
    "    #print(\"Time in rank {} is:\".format(rank), MPI.Wtime()-t1_)\n",
    "    #print('Process {} received data:'.format(rank), data_.shape)\n",
    "   # print(f'\\nResult sent \\n From Process {rank} to -> process {0}\\n Data: \\n{res}')"
   ]
  },
  {
   "cell_type": "code",
   "execution_count": 39,
   "id": "025472db",
   "metadata": {},
   "outputs": [
    {
     "name": "stdout",
     "output_type": "stream",
     "text": [
      "Time in rank 0 is: 11.45203185081482\r\n"
     ]
    }
   ],
   "source": [
    "!mpiexec -np 1 python ex01_.py"
   ]
  },
  {
   "cell_type": "code",
   "execution_count": 40,
   "id": "6774f94a",
   "metadata": {},
   "outputs": [
    {
     "name": "stdout",
     "output_type": "stream",
     "text": [
      "Time in rank 0 is: 5.622430086135864\r\n"
     ]
    }
   ],
   "source": [
    "!mpiexec -np 2 python ex01_.py"
   ]
  },
  {
   "cell_type": "code",
   "execution_count": 41,
   "id": "2ac412be",
   "metadata": {},
   "outputs": [
    {
     "name": "stdout",
     "output_type": "stream",
     "text": [
      "Time in rank 0 is: 4.057527780532837\r\n"
     ]
    }
   ],
   "source": [
    "!mpiexec -np 3 python ex01_.py"
   ]
  },
  {
   "cell_type": "code",
   "execution_count": 42,
   "id": "ddfeefd5",
   "metadata": {},
   "outputs": [
    {
     "name": "stdout",
     "output_type": "stream",
     "text": [
      "Time in rank 0 is: 3.2704930305480957\r\n"
     ]
    }
   ],
   "source": [
    "!mpiexec -np 4 python ex01_.py"
   ]
  },
  {
   "cell_type": "markdown",
   "id": "e546f9e8",
   "metadata": {},
   "source": [
    "### Exercise 01_b"
   ]
  },
  {
   "cell_type": "code",
   "execution_count": 76,
   "id": "113656b9",
   "metadata": {},
   "outputs": [
    {
     "name": "stdout",
     "output_type": "stream",
     "text": [
      "Overwriting ex01_b.py\n"
     ]
    }
   ],
   "source": [
    "%%writefile ex01_b.py\n",
    "\n",
    "from mpi4py import MPI\n",
    "import numpy as np\n",
    "\n",
    "comm = MPI.COMM_WORLD\n",
    "rank = comm.Get_rank()\n",
    "size = comm.Get_size()\n",
    "\n",
    "stat = MPI.Status()\n",
    "\n",
    "\n",
    "#size of array\n",
    "N=10**8\n",
    "#print(size)\n",
    "#print(rank)\n",
    "\n",
    "#Batch\n",
    "Batch = round(N/size)\n",
    "\n",
    "#find average\n",
    "\n",
    "def find_avg(a):\n",
    "    avg = np.sum(a)/len(a)\n",
    "    return avg\n",
    "\n",
    "t1 = MPI.Wtime()\n",
    "# master process\n",
    "if rank == 0:\n",
    "    #data initialization\n",
    "    data = np.random.random(size = (N,1))\n",
    "\n",
    "    # master process sends data to worker processes by\n",
    "    # going through the ranks of all worker processes\n",
    "    for i in range(1, size):\n",
    "        \n",
    "        #sending the matrices\n",
    "        comm.Send(data, dest=i, tag=i)\n",
    "        #print(f'From Process {rank} to -> process {i}\\n Data: \\n{subs[i]}')\n",
    "\n",
    "    res = find_avg(data[(Batch*rank):(Batch*(1+rank)),0])\n",
    "    \n",
    "    #receiving and doing final summation\n",
    "    final_dt = [res]\n",
    "    for i in range(1,size):\n",
    "         \n",
    "        data_f = np.empty((1,))\n",
    "        comm.Recv(data_f, source=i, tag=i+size*3)\n",
    "        final_dt.append(data_f)\n",
    "    \n",
    "    #final_res = np.concatenate(final_dt, axis=0)\n",
    "    print(\"\\naverage of all processes: \",sum(final_dt)/len(final_dt))\n",
    "    print(\"\\n Average in rank 0 (complete data): \",find_avg(data))\n",
    "\n",
    "    print(\"Time in rank 0 is:\", MPI.Wtime()-t1)\n",
    "\n",
    "\n",
    "# worker processes\n",
    "\n",
    "else:\n",
    "    #Receiving data, performing action, sending back to rank0\n",
    "\n",
    "    data_ = np.empty((N,1))\n",
    "    comm.Recv(data_, source=0, tag=rank)\n",
    "\n",
    "    res = find_avg(data_[(Batch*rank):(Batch*(1+rank)),0])\n",
    "\n",
    "    comm.Send(res, dest=0, tag=rank+size*3)\n",
    "    \n",
    "    #print(\"Time in rank {} is:\".format(rank), MPI.Wtime()-t1_)\n",
    "    #print('Process {} received data:'.format(rank), data_.shape)\n",
    "    print(f'\\nResult sent \\n From Process {rank} to -> process {0} -> average is: {res}')"
   ]
  },
  {
   "cell_type": "code",
   "execution_count": 47,
   "id": "873df40e",
   "metadata": {},
   "outputs": [],
   "source": [
    "#N=10**5"
   ]
  },
  {
   "cell_type": "code",
   "execution_count": 62,
   "id": "b5a7e311",
   "metadata": {},
   "outputs": [
    {
     "name": "stdout",
     "output_type": "stream",
     "text": [
      "\r\n",
      "average of all processes:  0.5006752382005252\r\n",
      "\r\n",
      " Average in rank 0 (complete data):  0.5006752382005252\r\n",
      "Time in rank 0 is: 0.0020799636840820312\r\n"
     ]
    }
   ],
   "source": [
    "!mpiexec -np 1 python ex01_b.py"
   ]
  },
  {
   "cell_type": "code",
   "execution_count": 63,
   "id": "95c8f1fa",
   "metadata": {},
   "outputs": [
    {
     "name": "stdout",
     "output_type": "stream",
     "text": [
      "\r\n",
      "average of all processes:  [0.49875728]\r\n",
      "\r\n",
      " Average in rank 0 (complete data):  0.49875727769334893\r\n",
      "Time in rank 0 is: 0.0027980804443359375\r\n",
      "\r\n",
      "Result sent \r\n",
      " From Process 1 to -> process 0 -> average is: 0.4978065801580282\r\n"
     ]
    }
   ],
   "source": [
    "!mpiexec -np 2 python ex01_b.py"
   ]
  },
  {
   "cell_type": "code",
   "execution_count": 64,
   "id": "6f0a7db7",
   "metadata": {},
   "outputs": [
    {
     "name": "stdout",
     "output_type": "stream",
     "text": [
      "\r\n",
      "Result sent \r\n",
      " From Process 1 to -> process 0 -> average is: 0.5018343789616073\r\n",
      "\r\n",
      "Result sent \r\n",
      " From Process 2 to -> process 0 -> average is: 0.5006353741933652\r\n",
      "\r\n",
      "average of all processes:  [0.5014581]\r\n",
      "\r\n",
      " Average in rank 0 (complete data):  0.5014576544755762\r\n",
      "Time in rank 0 is: 0.022327899932861328\r\n"
     ]
    }
   ],
   "source": [
    "!mpiexec -np 3 python ex01_b.py"
   ]
  },
  {
   "cell_type": "code",
   "execution_count": 65,
   "id": "820834b0",
   "metadata": {},
   "outputs": [
    {
     "name": "stdout",
     "output_type": "stream",
     "text": [
      "\r\n",
      "average of all processes:  [0.50063504]\r\n",
      "\r\n",
      " Average in rank 0 (complete data):  0.5006350397001725\r\n",
      "Time in rank 0 is: 0.0039141178131103516\r\n",
      "\r\n",
      "Result sent \r\n",
      " From Process 1 to -> process 0 -> average is: 0.4993707406654497\r\n",
      "\r\n",
      "Result sent \r\n",
      " From Process 2 to -> process 0 -> average is: 0.5035168433173906\r\n",
      "\r\n",
      "Result sent \r\n",
      " From Process 3 to -> process 0 -> average is: 0.4983482692397172\r\n"
     ]
    }
   ],
   "source": [
    "!mpiexec -np 4 python ex01_b.py"
   ]
  },
  {
   "cell_type": "code",
   "execution_count": null,
   "id": "b02a7c6f",
   "metadata": {},
   "outputs": [],
   "source": [
    "#N=10**6"
   ]
  },
  {
   "cell_type": "code",
   "execution_count": 67,
   "id": "23ba5ed5",
   "metadata": {},
   "outputs": [
    {
     "name": "stdout",
     "output_type": "stream",
     "text": [
      "\r\n",
      "average of all processes:  0.49991940537174945\r\n",
      "\r\n",
      " Average in rank 0 (complete data):  0.49991940537174945\r\n",
      "Time in rank 0 is: 0.02193284034729004\r\n"
     ]
    }
   ],
   "source": [
    "!mpiexec -np 1 python ex01_b.py"
   ]
  },
  {
   "cell_type": "code",
   "execution_count": 68,
   "id": "9a75cc73",
   "metadata": {},
   "outputs": [
    {
     "name": "stdout",
     "output_type": "stream",
     "text": [
      "\n",
      "Result sent \n",
      " From Process 1 to -> process 0 -> average is: 0.5003881667265816\n",
      "\n",
      "average of all processes:  [0.50026862]\n",
      "\n",
      " Average in rank 0 (complete data):  0.5002686186372196\n",
      "Time in rank 0 is: 0.022748947143554688\n"
     ]
    }
   ],
   "source": [
    "!mpiexec -np 2 python ex01_b.py"
   ]
  },
  {
   "cell_type": "code",
   "execution_count": 69,
   "id": "e6f88872",
   "metadata": {},
   "outputs": [
    {
     "name": "stdout",
     "output_type": "stream",
     "text": [
      "\r\n",
      "Result sent \r\n",
      " From Process 1 to -> process 0 -> average is: 0.5011521048043635\r\n",
      "\r\n",
      "Result sent \r\n",
      " From Process 2 to -> process 0 -> average is: 0.49941585619033146\r\n",
      "\r\n",
      "average of all processes:  [0.50023216]\r\n",
      "\r\n",
      " Average in rank 0 (complete data):  0.5002326421876567\r\n",
      "Time in rank 0 is: 0.02737593650817871\r\n"
     ]
    }
   ],
   "source": [
    "!mpiexec -np 3 python ex01_b.py"
   ]
  },
  {
   "cell_type": "code",
   "execution_count": 70,
   "id": "d62be069",
   "metadata": {},
   "outputs": [
    {
     "name": "stdout",
     "output_type": "stream",
     "text": [
      "\r\n",
      "average of all processes:  [0.49969929]\r\n",
      "\r\n",
      " Average in rank 0 (complete data):  0.4996992910470642\r\n",
      "Time in rank 0 is: 0.028100967407226562\r\n",
      "\r\n",
      "Result sent \r\n",
      " From Process 1 to -> process 0 -> average is: 0.4998374459464813\r\n",
      "\r\n",
      "Result sent \r\n",
      " From Process 2 to -> process 0 -> average is: 0.49978330678419985\r\n",
      "\r\n",
      "Result sent \r\n",
      " From Process 3 to -> process 0 -> average is: 0.4998523433929824\r\n"
     ]
    }
   ],
   "source": [
    "!mpiexec -np 4 python ex01_b.py"
   ]
  },
  {
   "cell_type": "code",
   "execution_count": null,
   "id": "c6c68df0",
   "metadata": {},
   "outputs": [],
   "source": [
    "#N=10**7"
   ]
  },
  {
   "cell_type": "code",
   "execution_count": 72,
   "id": "70a41867",
   "metadata": {
    "scrolled": true
   },
   "outputs": [
    {
     "name": "stdout",
     "output_type": "stream",
     "text": [
      "\r\n",
      "average of all processes:  0.49991197947978944\r\n",
      "\r\n",
      " Average in rank 0 (complete data):  0.49991197947978944\r\n",
      "Time in rank 0 is: 0.17930102348327637\r\n"
     ]
    }
   ],
   "source": [
    "!mpiexec -np 1 python ex01_b.py"
   ]
  },
  {
   "cell_type": "code",
   "execution_count": 73,
   "id": "3023323c",
   "metadata": {},
   "outputs": [
    {
     "name": "stdout",
     "output_type": "stream",
     "text": [
      "\r\n",
      "Result sent \r\n",
      " From Process 1 to -> process 0 -> average is: 0.5000099661746804\r\n",
      "\r\n",
      "average of all processes:  [0.50001165]\r\n",
      "\r\n",
      " Average in rank 0 (complete data):  0.5000116537529374\r\n",
      "Time in rank 0 is: 0.19699716567993164\r\n"
     ]
    }
   ],
   "source": [
    "!mpiexec -np 2 python ex01_b.py"
   ]
  },
  {
   "cell_type": "code",
   "execution_count": 74,
   "id": "12535f72",
   "metadata": {},
   "outputs": [
    {
     "name": "stdout",
     "output_type": "stream",
     "text": [
      "\n",
      "Result sent \n",
      " From Process 1 to -> process 0 -> average is: 0.49985877031539033\n",
      "\n",
      "Result sent \n",
      " From Process 2 to -> process 0 -> average is: 0.5000189508274225\n",
      "\n",
      "average of all processes:  [0.50001178]\n",
      "\n",
      " Average in rank 0 (complete data):  0.5000117479407509\n",
      "Time in rank 0 is: 0.21705389022827148\n"
     ]
    }
   ],
   "source": [
    "!mpiexec -np 3 python ex01_b.py"
   ]
  },
  {
   "cell_type": "code",
   "execution_count": 75,
   "id": "d26f655d",
   "metadata": {
    "scrolled": false
   },
   "outputs": [
    {
     "name": "stdout",
     "output_type": "stream",
     "text": [
      "\n",
      "Result sent \n",
      " From Process 1 to -> process 0 -> average is: 0.4997507859018565\n",
      "\n",
      "Result sent \n",
      " From Process 2 to -> process 0 -> average is: 0.5000337200155665\n",
      "\n",
      "average of all processes:  [0.49984501]\n",
      "\n",
      " Average in rank 0 (complete data):  0.4998450084167889\n",
      "Time in rank 0 is: 0.2613978385925293\n",
      "\n",
      "Result sent \n",
      " From Process 3 to -> process 0 -> average is: 0.4997723141586117\n"
     ]
    }
   ],
   "source": [
    "!mpiexec -np 4 python ex01_b.py"
   ]
  },
  {
   "cell_type": "code",
   "execution_count": 39,
   "id": "8a03c64b",
   "metadata": {},
   "outputs": [],
   "source": [
    "#N=10**8"
   ]
  },
  {
   "cell_type": "code",
   "execution_count": 77,
   "id": "68856b5f",
   "metadata": {
    "scrolled": false
   },
   "outputs": [
    {
     "name": "stdout",
     "output_type": "stream",
     "text": [
      "\r\n",
      "average of all processes:  0.5000040859584217\r\n",
      "\r\n",
      " Average in rank 0 (complete data):  0.5000040859584217\r\n",
      "Time in rank 0 is: 1.7917490005493164\r\n"
     ]
    }
   ],
   "source": [
    "!mpiexec -np 1 python ex01_b.py"
   ]
  },
  {
   "cell_type": "code",
   "execution_count": 78,
   "id": "4a82ae8d",
   "metadata": {},
   "outputs": [
    {
     "name": "stdout",
     "output_type": "stream",
     "text": [
      "\n",
      "Result sent \n",
      " From Process 1 to -> process 0 -> average is: 0.4999667910085194\n",
      "\n",
      "average of all processes:  [0.49997988]\n",
      "\n",
      " Average in rank 0 (complete data):  0.499979877061593\n",
      "Time in rank 0 is: 2.0573461055755615\n"
     ]
    }
   ],
   "source": [
    "!mpiexec -np 2 python ex01_b.py"
   ]
  },
  {
   "cell_type": "code",
   "execution_count": 79,
   "id": "d93966cc",
   "metadata": {},
   "outputs": [
    {
     "name": "stdout",
     "output_type": "stream",
     "text": [
      "\n",
      "Result sent \n",
      " From Process 1 to -> process 0 -> average is: 0.50004774949159\n",
      "\n",
      "Result sent \n",
      " From Process 2 to -> process 0 -> average is: 0.4999918077500031\n",
      "\n",
      "average of all processes:  [0.50001787]\n",
      "\n",
      " Average in rank 0 (complete data):  0.5000178713581599\n",
      "Time in rank 0 is: 2.2844340801239014\n"
     ]
    }
   ],
   "source": [
    "!mpiexec -np 3 python ex01_b.py"
   ]
  },
  {
   "cell_type": "code",
   "execution_count": 80,
   "id": "5be14f74",
   "metadata": {
    "scrolled": true
   },
   "outputs": [
    {
     "name": "stdout",
     "output_type": "stream",
     "text": [
      "\r\n",
      "===================================================================================\r\n",
      "=   BAD TERMINATION OF ONE OF YOUR APPLICATION PROCESSES\r\n",
      "=   PID 17022 RUNNING AT mansoor\r\n",
      "=   EXIT CODE: 9\r\n",
      "=   CLEANING UP REMAINING PROCESSES\r\n",
      "=   YOU CAN IGNORE THE BELOW CLEANUP MESSAGES\r\n",
      "===================================================================================\r\n",
      "YOUR APPLICATION TERMINATED WITH THE EXIT STRING: Killed (signal 9)\r\n",
      "This typically refers to a problem with your application.\r\n",
      "Please see the FAQ page for debugging suggestions\r\n"
     ]
    }
   ],
   "source": [
    "!mpiexec -np 4 python ex01.py"
   ]
  },
  {
   "cell_type": "markdown",
   "id": "f8164624",
   "metadata": {},
   "source": [
    "## $\\color{red}{\\text{Report}}$\n",
    "----------------\n",
    "#### Table of Times for 1.B"
   ]
  },
  {
   "cell_type": "markdown",
   "id": "34856387",
   "metadata": {},
   "source": [
    "| N   | P=1    | P=2    | P=3    | P=4    | \n",
    "|:-------------|:-----------|:-----------|:-----------|:-----------|\n",
    "| 10**5   | 002079    | 0.00279    |   0.02232  |   0.0039  | \n",
    "| 10**6   | 0.0219   | 0.0227   |  0.02737  |  0.0281   | \n",
    "| 10**7   | 0.179    | 0.196    | 0.2170    |  0.2613   | \n",
    "| 10**8   | 1.7917    | 2.0573  | 2.2844    | EXIT CODE: 9    | "
   ]
  },
  {
   "cell_type": "markdown",
   "id": "f57bb0a3",
   "metadata": {},
   "source": [
    "- when N=10^5 we see by increasing the number of the workers, the computation speed is decreased.\n",
    "- in all other cases we see a very small increase in the computation speed.\n",
    "\n",
    "The problem that we don't see that much decrease speed might be because i am using a virutalmachine"
   ]
  },
  {
   "cell_type": "markdown",
   "id": "9e79d8fb",
   "metadata": {},
   "source": [
    "**$\\color{green}{\\text{Strategy}}$**\n",
    "------------------\n",
    "SAME AS PREVIOUS\n",
    "\n",
    "$\\color{Blue}{\\text{When Rank==0:}}$\n",
    "\n",
    "0. First We make a batch based on the data size and number of workers.\n",
    "1. Rank0 always start the program by initializing the matrices.\n",
    "2. Next we stack the data together to send it to other processes easily.\n",
    "3. Rank0 send the stacked data to all other processes with a specific tag.\n",
    "4. Rank0 itself receives the batch of the data and perform the summation.\n",
    "5. Rank0 waits until other processes do their task and send the data to Rank0, as soon as it receives the data it first append to a list and at final stage it concatenate all members of the list to make the final data.\n",
    "\n",
    "$\\color{brown}{\\text{When Other Ranks:}}$\n",
    "\n",
    "0. Since we use Send/Recv we need to create a buffer before receiving the data.\n",
    "1. The data is received from process 0 to other processes, the data is put in the buffer.\n",
    "2. The summation is peformed and the result is going to be sent to the main process, but first the shape is sent to be used for size buffer for the data.\n",
    "3. The result is sent to process 0\n",
    "\n",
    "End:\n",
    "- After all the processors did their task and sent their data back to master processor, the program will end"
   ]
  },
  {
   "cell_type": "markdown",
   "id": "fca103d2",
   "metadata": {},
   "source": [
    "# Exercise 2"
   ]
  },
  {
   "cell_type": "code",
   "execution_count": 396,
   "id": "bf96f40d",
   "metadata": {},
   "outputs": [
    {
     "name": "stdout",
     "output_type": "stream",
     "text": [
      "Overwriting ex02_a.py\n"
     ]
    }
   ],
   "source": [
    "%%writefile ex02_a.py\n",
    "\n",
    "from mpi4py import MPI\n",
    "import numpy as np\n",
    "\n",
    "comm = MPI.COMM_WORLD\n",
    "rank = comm.Get_rank()\n",
    "size = comm.Get_size()\n",
    "\n",
    "stat = MPI.Status()\n",
    "\n",
    "\n",
    "#size of array\n",
    "N=10**5\n",
    "#print(size)\n",
    "#print(rank)\n",
    "\n",
    "Batch = round(N/size)\n",
    "\n",
    "\n",
    "\n",
    "t1 = MPI.Wtime()\n",
    "# master process\n",
    "if rank == 0:\n",
    "\n",
    "    data1 = np.random.random(size = (N,1))\n",
    "    data2 = np.random.random(size = (N,1))\n",
    "    matrix_a = np.zeros(shape=(N, N))\n",
    "\n",
    "    # master process sends data to worker processes by\n",
    "    # going through the ranks of all worker processes\n",
    "    for i in range(1, size):\n",
    "        \n",
    "        #sending the matrices\n",
    "        comm.Send(data1, dest=i, tag=i)\n",
    "        comm.Send(data2, dest=i, tag=i*2)\n",
    "        #print(f'From Process {rank} to -> process {i}\\n Data: \\n{subs[i]}')\n",
    "\n",
    "        \n",
    "        \n",
    "    d1 = data1[(Batch*rank):(Batch*(1+rank)),:]\n",
    "\n",
    "    \n",
    "    vector_s = np.dot(d1, data2.T)\n",
    "    \n",
    "    print(f\"shape in rank {rank}, is: {vector_s.shape}\")\n",
    "\n",
    "    #receiving and doing final summation\n",
    "    final_dt = [vector_s]\n",
    "    #receiving data\n",
    "    for i in range(1,size):\n",
    "        shp_ = np.empty(2, dtype=int)\n",
    "        comm.Recv(shp_, source=i, tag=i+size*2)\n",
    "         \n",
    "        data_f = np.empty((shp_[0],shp_[1]))\n",
    "        comm.Recv(data_f, source=i, tag=i+size*3)\n",
    "        final_dt.append(data_f)\n",
    "    #final result\n",
    "    final_res = np.concatenate(final_dt, axis=0)\n",
    "    print(\"final result: \",final_res.shape)\n",
    "    #print(\"finallyyyyy....\",vector_s.shape)\n",
    "\n",
    "    print(\"Time in rank 0 is:\", MPI.Wtime()-t1)\n",
    "\n",
    "\n",
    "# worker processes\n",
    "\n",
    "else:\n",
    "    #creating buffer, recevining datas, peroforming tasks. \n",
    "    #sending back to the master process.\n",
    "\n",
    "    data_1 = np.empty((N,1))\n",
    "    comm.Recv(data_1, source=0, tag=rank)\n",
    "    \n",
    "    data_1 = data_1[(Batch*rank):(Batch*(1+rank)),:]\n",
    "    #print(data_1.shape)\n",
    "    \n",
    "    data_2 = np.empty((N,1))\n",
    "    comm.Recv(data_2, source=0, tag=rank*2)\n",
    "\n",
    "    \n",
    "    vector_s = np.dot(data_1, data_2.T)\n",
    "    print(f\"shape in rank {rank}, is: {vector_s.shape}\")\n",
    "\n",
    "    \n",
    "    shp = np.array(vector_s.shape, dtype=int)\n",
    "    comm.Send(shp, dest=0, tag=size*2+rank)\n",
    "    comm.Send(vector_s, dest=0, tag=rank+size*3)\n",
    "    \n",
    "    #print(\"Time in rank {} is:\".format(rank), MPI.Wtime()-t1_)\n",
    "    #print('Process {} received data:'.format(rank), data_.shape)\n",
    "    #print(f'\\nResult sent \\n From Process {rank} to -> process {0}\\n Data shape: \\n{res.shape}')"
   ]
  },
  {
   "cell_type": "code",
   "execution_count": 381,
   "id": "486ebf15",
   "metadata": {},
   "outputs": [
    {
     "name": "stdout",
     "output_type": "stream",
     "text": [
      "shape in rank 0, is: (100, 100)\r\n",
      "final result:  (100, 100)\r\n",
      "Time in rank 0 is: 0.00017714500427246094\r\n"
     ]
    }
   ],
   "source": [
    "!mpiexec -np 1 python ex02_a.py"
   ]
  },
  {
   "cell_type": "code",
   "execution_count": 382,
   "id": "48cbd458",
   "metadata": {},
   "outputs": [
    {
     "name": "stdout",
     "output_type": "stream",
     "text": [
      "shape in rank 1, is: (50, 100)\r\n",
      "shape in rank 0, is: (50, 100)\r\n",
      "final result:  (100, 100)\r\n",
      "Time in rank 0 is: 0.00027298927307128906\r\n"
     ]
    }
   ],
   "source": [
    "!mpiexec -np 2 python ex02_a.py"
   ]
  },
  {
   "cell_type": "code",
   "execution_count": 383,
   "id": "b81026c9",
   "metadata": {},
   "outputs": [
    {
     "name": "stdout",
     "output_type": "stream",
     "text": [
      "shape in rank 1, is: (33, 100)\r\n",
      "shape in rank 2, is: (33, 100)\r\n",
      "shape in rank 0, is: (33, 100)\r\n",
      "final result:  (99, 100)\r\n",
      "Time in rank 0 is: 0.0022530555725097656\r\n"
     ]
    }
   ],
   "source": [
    "!mpiexec -np 3 python ex02_a.py"
   ]
  },
  {
   "cell_type": "code",
   "execution_count": 384,
   "id": "6ca0b36c",
   "metadata": {
    "scrolled": true
   },
   "outputs": [
    {
     "name": "stdout",
     "output_type": "stream",
     "text": [
      "shape in rank 1, is: (25, 100)\r\n",
      "shape in rank 0, is: (25, 100)\r\n",
      "final result:  (100, 100)\r\n",
      "Time in rank 0 is: 0.011131048202514648\r\n",
      "shape in rank 2, is: (25, 100)\r\n",
      "shape in rank 3, is: (25, 100)\r\n"
     ]
    }
   ],
   "source": [
    "!mpiexec -np 4 python ex02_a.py"
   ]
  },
  {
   "cell_type": "code",
   "execution_count": null,
   "id": "884a42ce",
   "metadata": {},
   "outputs": [],
   "source": [
    "#N=10**3"
   ]
  },
  {
   "cell_type": "code",
   "execution_count": 386,
   "id": "9f7f3f89",
   "metadata": {},
   "outputs": [
    {
     "name": "stdout",
     "output_type": "stream",
     "text": [
      "shape in rank 0, is: (1000, 1000)\r\n",
      "final result:  (1000, 1000)\r\n",
      "Time in rank 0 is: 0.012784004211425781\r\n"
     ]
    }
   ],
   "source": [
    "!mpiexec -np 1 python ex02_a.py"
   ]
  },
  {
   "cell_type": "code",
   "execution_count": 387,
   "id": "c5163e17",
   "metadata": {},
   "outputs": [
    {
     "name": "stdout",
     "output_type": "stream",
     "text": [
      "shape in rank 0, is: (500, 1000)\r\n",
      "final result:  (1000, 1000)\r\n",
      "Time in rank 0 is: 0.0314030647277832\r\n",
      "shape in rank 1, is: (500, 1000)\r\n"
     ]
    }
   ],
   "source": [
    "!mpiexec -np 2 python ex02_a.py"
   ]
  },
  {
   "cell_type": "code",
   "execution_count": 388,
   "id": "401231d9",
   "metadata": {},
   "outputs": [
    {
     "name": "stdout",
     "output_type": "stream",
     "text": [
      "shape in rank 1, is: (333, 1000)\r\n",
      "shape in rank 0, is: (333, 1000)\r\n",
      "final result:  (999, 1000)\r\n",
      "Time in rank 0 is: 0.06317996978759766\r\n",
      "shape in rank 2, is: (333, 1000)\r\n"
     ]
    }
   ],
   "source": [
    "!mpiexec -np 3 python ex02_a.py"
   ]
  },
  {
   "cell_type": "code",
   "execution_count": 389,
   "id": "a7d427b7",
   "metadata": {
    "scrolled": true
   },
   "outputs": [
    {
     "name": "stdout",
     "output_type": "stream",
     "text": [
      "shape in rank 0, is: (250, 1000)\r\n",
      "final result:  (1000, 1000)\r\n",
      "Time in rank 0 is: 0.049365997314453125\r\n",
      "shape in rank 1, is: (250, 1000)\r\n",
      "shape in rank 2, is: (250, 1000)\r\n",
      "shape in rank 3, is: (250, 1000)\r\n"
     ]
    }
   ],
   "source": [
    "!mpiexec -np 4 python ex02_a.py"
   ]
  },
  {
   "cell_type": "code",
   "execution_count": 391,
   "id": "d6d3686d",
   "metadata": {},
   "outputs": [],
   "source": [
    "#N=10**4"
   ]
  },
  {
   "cell_type": "code",
   "execution_count": 392,
   "id": "dedaa549",
   "metadata": {},
   "outputs": [
    {
     "name": "stdout",
     "output_type": "stream",
     "text": [
      "shape in rank 0, is: (10000, 10000)\r\n",
      "final result:  (10000, 10000)\r\n",
      "Time in rank 0 is: 0.5667219161987305\r\n"
     ]
    }
   ],
   "source": [
    "!mpiexec -np 1 python ex02_a.py"
   ]
  },
  {
   "cell_type": "code",
   "execution_count": 393,
   "id": "ee37e4a9",
   "metadata": {},
   "outputs": [
    {
     "name": "stdout",
     "output_type": "stream",
     "text": [
      "shape in rank 1, is: (5000, 10000)\n",
      "shape in rank 0, is: (5000, 10000)\n",
      "final result:  (10000, 10000)\n",
      "Time in rank 0 is: 0.49054718017578125\n"
     ]
    }
   ],
   "source": [
    "!mpiexec -np 2 python ex02_a.py"
   ]
  },
  {
   "cell_type": "code",
   "execution_count": 394,
   "id": "0ca030b4",
   "metadata": {},
   "outputs": [
    {
     "name": "stdout",
     "output_type": "stream",
     "text": [
      "shape in rank 1, is: (3333, 10000)\n",
      "shape in rank 2, is: (3333, 10000)\n",
      "shape in rank 0, is: (3333, 10000)\n",
      "final result:  (9999, 10000)\n",
      "Time in rank 0 is: 0.4853520393371582\n"
     ]
    }
   ],
   "source": [
    "!mpiexec -np 3 python ex02_a.py"
   ]
  },
  {
   "cell_type": "code",
   "execution_count": 395,
   "id": "2b960f42",
   "metadata": {
    "scrolled": true
   },
   "outputs": [
    {
     "name": "stdout",
     "output_type": "stream",
     "text": [
      "shape in rank 1, is: (2500, 10000)\n",
      "shape in rank 2, is: (2500, 10000)\n",
      "shape in rank 3, is: (2500, 10000)\n",
      "shape in rank 0, is: (2500, 10000)\n",
      "final result:  (10000, 10000)\n",
      "Time in rank 0 is: 0.49196314811706543\n"
     ]
    }
   ],
   "source": [
    "!mpiexec -np 4 python ex02_a.py"
   ]
  },
  {
   "cell_type": "code",
   "execution_count": null,
   "id": "7247a8f5",
   "metadata": {},
   "outputs": [],
   "source": [
    "#N=10**5"
   ]
  },
  {
   "cell_type": "code",
   "execution_count": 397,
   "id": "7692753f",
   "metadata": {},
   "outputs": [
    {
     "name": "stdout",
     "output_type": "stream",
     "text": [
      "Traceback (most recent call last):\r\n",
      "  File \"ex02_a.py\", line 27, in <module>\r\n",
      "    matrix_a = np.zeros(shape=(N, N))\r\n",
      "numpy.core._exceptions.MemoryError: Unable to allocate 74.5 GiB for an array with shape (100000, 100000) and data type float64\r\n"
     ]
    }
   ],
   "source": [
    "!mpiexec -np 1 python ex02_a.py"
   ]
  },
  {
   "cell_type": "code",
   "execution_count": 398,
   "id": "8be98751",
   "metadata": {},
   "outputs": [
    {
     "name": "stdout",
     "output_type": "stream",
     "text": [
      "Traceback (most recent call last):\n",
      "  File \"ex02_a.py\", line 27, in <module>\n",
      "    matrix_a = np.zeros(shape=(N, N))\n",
      "numpy.core._exceptions.MemoryError: Unable to allocate 74.5 GiB for an array with shape (100000, 100000) and data type float64\n",
      "^C\n",
      "[mpiexec@mansoor] Sending Ctrl-C to processes as requested\n",
      "[mpiexec@mansoor] Press Ctrl-C again to force abort\n"
     ]
    }
   ],
   "source": [
    "!mpiexec -np 2 python ex02_a.py"
   ]
  },
  {
   "cell_type": "code",
   "execution_count": 399,
   "id": "4e9d33e0",
   "metadata": {},
   "outputs": [
    {
     "name": "stdout",
     "output_type": "stream",
     "text": [
      "Traceback (most recent call last):\n",
      "  File \"ex02_a.py\", line 27, in <module>\n",
      "    matrix_a = np.zeros(shape=(N, N))\n",
      "numpy.core._exceptions.MemoryError: Unable to allocate 74.5 GiB for an array with shape (100000, 100000) and data type float64\n",
      "^C\n",
      "[mpiexec@mansoor] Sending Ctrl-C to processes as requested\n",
      "[mpiexec@mansoor] Press Ctrl-C again to force abort\n"
     ]
    }
   ],
   "source": [
    "!mpiexec -np 3 python ex02_a.py"
   ]
  },
  {
   "cell_type": "code",
   "execution_count": null,
   "id": "38e390e7",
   "metadata": {
    "scrolled": false
   },
   "outputs": [],
   "source": [
    "!mpiexec -np 4 python ex02_a.py"
   ]
  },
  {
   "cell_type": "markdown",
   "id": "9beabc60",
   "metadata": {},
   "source": [
    "## $\\color{red}{\\text{Report 2.A}}$\n",
    "----------------\n",
    "#### Table of Times for 2"
   ]
  },
  {
   "cell_type": "markdown",
   "id": "903c6ebd",
   "metadata": {},
   "source": [
    "| N   | P=1    | P=2    | P=3    | P=4    | \n",
    "|:-------------|:-----------|:-----------|:-----------|:-----------|\n",
    "| 10**2   | 0.000177   | 0.000272   |  0.00225  |  0.01113  | \n",
    "| 10**3  | 0.01278    | 0.0314    | 0.0631    |  0.04936   | \n",
    "| 10**4   | 0.56672    | 0.49054  | 0.48535   | 0.491963 | "
   ]
  },
  {
   "cell_type": "markdown",
   "id": "48df08be",
   "metadata": {},
   "source": [
    "- N=10^2 increase in number of workers don't have effect in the decrease of computation speed.\n",
    "- N=10^3 only with p=4 we have a better performance than one worker less but overall p=1 has the best performance.\n",
    "- N= 10^4 we see that by increasing the number of workers we see a slightly imporve in the computation spped .\n",
    "- N= 10^5 is not doable due to memoryerror"
   ]
  },
  {
   "cell_type": "markdown",
   "id": "216a4936",
   "metadata": {},
   "source": [
    "**$\\color{green}{\\text{Strategy}}$**\n",
    "------------------\n",
    "SAME AS PREVIOUS\n",
    "\n",
    "$\\color{Blue}{\\text{When Rank==0:}}$\n",
    "\n",
    "0. First We make a batch based on the data size and number of workers.\n",
    "1. Rank0 always start the program by initializing the matrices.\n",
    "2. Next we stack the data together to send it to other processes easily.\n",
    "3. Rank0 send the stacked data to all other processes with a specific tag.\n",
    "4. Rank0 itself receives the batch of the data and perform the summation.\n",
    "5. Rank0 waits until other processes do their task and send the data to Rank0, as soon as it receives the data it first append to a list and at final stage it concatenate all members of the list to make the final data.\n",
    "\n",
    "$\\color{brown}{\\text{When Other Ranks:}}$\n",
    "\n",
    "0. Since we use Send/Recv we need to create a buffer before receiving the data.\n",
    "1. The data is received from process 0 to other processes, the data is put in the buffer.\n",
    "2. The summation is peformed and the result is going to be sent to the main process, but first the shape is sent to be used for size buffer for the data.\n",
    "3. The result is sent to process 0\n",
    "\n",
    "End:\n",
    "- After all the processors did their task and sent their data back to master processor, the program will end"
   ]
  },
  {
   "cell_type": "markdown",
   "id": "956d1850",
   "metadata": {},
   "source": [
    "# Exercise 2_"
   ]
  },
  {
   "cell_type": "code",
   "execution_count": 231,
   "id": "479c82bf",
   "metadata": {},
   "outputs": [
    {
     "name": "stdout",
     "output_type": "stream",
     "text": [
      "Overwriting ex02.py\n"
     ]
    }
   ],
   "source": [
    "%%writefile ex02.py\n",
    "\n",
    "from mpi4py import MPI\n",
    "import numpy as np\n",
    "\n",
    "comm = MPI.COMM_WORLD\n",
    "rank = comm.Get_rank()\n",
    "size = comm.Get_size()\n",
    "\n",
    "stat = MPI.Status()\n",
    "\n",
    "\n",
    "#size of array\n",
    "N=10**4\n",
    "#print(size)\n",
    "#print(rank)\n",
    "\n",
    "Batch = round(N/size)\n",
    "\n",
    "def multiplication(a,b):\n",
    "  z = np.dot(a,b)\n",
    "  return z\n",
    "\n",
    "t1 = MPI.Wtime()\n",
    "# master process\n",
    "if rank == 0:\n",
    "\n",
    "    data1 = np.random.random(size = (N,N))\n",
    "    data2 = np.random.random(size = (N,N))\n",
    "\n",
    "    for i in range(1, size):\n",
    "        \n",
    "        #sending the matrices\n",
    "        comm.Send(data1, dest=i, tag=i)\n",
    "        comm.Send(data2, dest=i, tag=i*2)\n",
    "        #print(f'From Process {rank} to -> process {i}\\n Data: \\n{subs[i]}')\n",
    "\n",
    "        \n",
    "    #choosing the batch for this process\n",
    "    d1 = data1[(Batch*rank):(Batch*(1+rank)),:]\n",
    "    d2 = data2[(Batch*rank):(Batch*(1+rank)),:]\n",
    "\n",
    "    #Calculating product\n",
    "    vector_s = np.zeros(shape=(d1.shape[0],d1.shape[1]))\n",
    "    for row in range(0, d1.shape[0]):\n",
    "        for colm in range(0, d2.shape[0]):\n",
    "            vector_s[row,0] += (d1[row,colm] * d2[colm,0])\n",
    "    #Sending back segment of output vector C\n",
    "    \n",
    "    print(f\"shape in rank {rank}, is: {vector_s.shape}\")\n",
    "    \n",
    "    #receiving and doing final summation\n",
    "    final_dt = [vector_s]\n",
    "    for i in range(1,size):\n",
    "        shp_ = np.empty(2, dtype=int)\n",
    "        comm.Recv(shp_, source=i, tag=i+size*2)\n",
    "         \n",
    "        data_f = np.empty((shp_[0],shp_[1]))\n",
    "        comm.Recv(data_f, source=i, tag=i+size*3)\n",
    "        final_dt.append(data_f)\n",
    "    \n",
    "    final_res = np.concatenate(final_dt, axis=0)\n",
    "    #print(\"final result: \",final_res[0])\n",
    "    print(\"finallyyyyy....\",final_res.shape)\n",
    "\n",
    "    print(\"Time in rank 0 is:\", MPI.Wtime()-t1)\n",
    "\n",
    "\n",
    "# worker processes\n",
    "\n",
    "else:\n",
    "    #create buffer\n",
    "    #receive data\n",
    "    #peform action\n",
    "    #send data back\n",
    "\n",
    "    data_1 = np.empty((N,N))\n",
    "    comm.Recv(data_1, source=0, tag=rank)\n",
    "    \n",
    "    data_1 = data_1[(Batch*rank):(Batch*(1+rank))]\n",
    "    #print(data_1.shape)\n",
    "    \n",
    "    data_2 = np.empty((N,N))\n",
    "    comm.Recv(data_2, source=0, tag=rank*2)\n",
    "    data_2 = data_2[(Batch*rank):(Batch*(1+rank))]\n",
    "    #print(data_2.shape)\n",
    "    \n",
    "    \n",
    "    \n",
    "    #Calculating product\n",
    "    vector_s = np.zeros(shape=(data_1.shape[0],data_2.shape[1]))\n",
    "    for row in range(0, data_1.shape[0]):\n",
    "        for colm in range(0, data_2.shape[0]):\n",
    "            vector_s[row,0] += (data_1[row,colm] * data_2[colm,0])\n",
    "    \n",
    "    \n",
    "    print(f\"shape in rank {rank}, is: {vector_s.shape}\")\n",
    "\n",
    "    \n",
    "    shp = np.array(vector_s.shape, dtype=int)\n",
    "    comm.Send(shp, dest=0, tag=size*2+rank)\n",
    "    comm.Send(vector_s, dest=0, tag=rank+size*3)\n",
    "    \n",
    "    #print(\"Time in rank {} is:\".format(rank), MPI.Wtime()-t1_)\n",
    "    #print('Process {} received data:'.format(rank), data_.shape)\n",
    "    #print(f'\\nResult sent \\n From Process {rank} to -> process {0}\\n Data shape: \\n{res.shape}')"
   ]
  },
  {
   "cell_type": "code",
   "execution_count": 222,
   "id": "2d1db4d3",
   "metadata": {
    "scrolled": true
   },
   "outputs": [
    {
     "name": "stdout",
     "output_type": "stream",
     "text": [
      "shape in rank 0, is: (100, 100)\r\n",
      "finallyyyyy.... (100, 100)\r\n",
      "Time in rank 0 is: 0.020988941192626953\r\n"
     ]
    }
   ],
   "source": [
    "!mpiexec -np 1 python ex02.py"
   ]
  },
  {
   "cell_type": "code",
   "execution_count": 223,
   "id": "d955b455",
   "metadata": {},
   "outputs": [
    {
     "name": "stdout",
     "output_type": "stream",
     "text": [
      "shape in rank 1, is: (50, 100)\r\n",
      "shape in rank 0, is: (50, 100)\r\n",
      "finallyyyyy.... (100, 100)\r\n",
      "Time in rank 0 is: 0.007315874099731445\r\n"
     ]
    }
   ],
   "source": [
    "!mpiexec -np 2 python ex02.py"
   ]
  },
  {
   "cell_type": "code",
   "execution_count": 224,
   "id": "3eea9a96",
   "metadata": {},
   "outputs": [
    {
     "name": "stdout",
     "output_type": "stream",
     "text": [
      "shape in rank 1, is: (33, 100)\r\n",
      "shape in rank 2, is: (33, 100)\r\n",
      "shape in rank 0, is: (33, 100)\r\n",
      "finallyyyyy.... (99, 100)\r\n",
      "Time in rank 0 is: 0.003826141357421875\r\n"
     ]
    }
   ],
   "source": [
    "!mpiexec -np 3 python ex02.py"
   ]
  },
  {
   "cell_type": "code",
   "execution_count": 225,
   "id": "790ecb99",
   "metadata": {},
   "outputs": [
    {
     "name": "stdout",
     "output_type": "stream",
     "text": [
      "shape in rank 0, is: (25, 100)\r\n",
      "finallyyyyy.... (100, 100)\r\n",
      "Time in rank 0 is: 0.0026841163635253906\r\n",
      "shape in rank 1, is: (25, 100)\r\n",
      "shape in rank 2, is: (25, 100)\r\n",
      "shape in rank 3, is: (25, 100)\r\n"
     ]
    }
   ],
   "source": [
    "!mpiexec -np 4 python ex02.py"
   ]
  },
  {
   "cell_type": "code",
   "execution_count": 116,
   "id": "c5390391",
   "metadata": {},
   "outputs": [],
   "source": [
    "#N=10**3"
   ]
  },
  {
   "cell_type": "code",
   "execution_count": 227,
   "id": "146a89c1",
   "metadata": {},
   "outputs": [
    {
     "name": "stdout",
     "output_type": "stream",
     "text": [
      "shape in rank 0, is: (1000, 1000)\r\n",
      "finallyyyyy.... (1000, 1000)\r\n",
      "Time in rank 0 is: 2.043778896331787\r\n"
     ]
    }
   ],
   "source": [
    "!mpiexec -np 1 python ex02.py"
   ]
  },
  {
   "cell_type": "code",
   "execution_count": 228,
   "id": "a34e0540",
   "metadata": {},
   "outputs": [
    {
     "name": "stdout",
     "output_type": "stream",
     "text": [
      "shape in rank 1, is: (500, 1000)\r\n",
      "shape in rank 0, is: (500, 1000)\r\n",
      "finallyyyyy.... (1000, 1000)\r\n",
      "Time in rank 0 is: 0.5822610855102539\r\n"
     ]
    }
   ],
   "source": [
    "!mpiexec -np 2 python ex02.py"
   ]
  },
  {
   "cell_type": "code",
   "execution_count": 229,
   "id": "b9b87f02",
   "metadata": {},
   "outputs": [
    {
     "name": "stdout",
     "output_type": "stream",
     "text": [
      "shape in rank 1, is: (333, 1000)\n",
      "shape in rank 2, is: (333, 1000)\n",
      "shape in rank 0, is: (333, 1000)\n",
      "finallyyyyy.... (999, 1000)\n",
      "Time in rank 0 is: 0.3003368377685547\n"
     ]
    }
   ],
   "source": [
    "!mpiexec -np 3 python ex02.py"
   ]
  },
  {
   "cell_type": "code",
   "execution_count": 230,
   "id": "9e3c3a28",
   "metadata": {
    "scrolled": false
   },
   "outputs": [
    {
     "name": "stdout",
     "output_type": "stream",
     "text": [
      "shape in rank 1, is: (250, 1000)\n",
      "shape in rank 2, is: (250, 1000)\n",
      "shape in rank 0, is: (250, 1000)\n",
      "finallyyyyy.... (1000, 1000)\n",
      "Time in rank 0 is: 0.23574185371398926\n",
      "shape in rank 3, is: (250, 1000)\n"
     ]
    }
   ],
   "source": [
    "!mpiexec -np 4 python ex02.py"
   ]
  },
  {
   "cell_type": "code",
   "execution_count": 199,
   "id": "769b1040",
   "metadata": {},
   "outputs": [],
   "source": [
    "#N=10**4"
   ]
  },
  {
   "cell_type": "code",
   "execution_count": 232,
   "id": "a2eacdd1",
   "metadata": {},
   "outputs": [
    {
     "name": "stdout",
     "output_type": "stream",
     "text": [
      "shape in rank 0, is: (10000, 10000)\r\n",
      "finallyyyyy.... (10000, 10000)\r\n",
      "Time in rank 0 is: 207.29367899894714\r\n"
     ]
    }
   ],
   "source": [
    "!mpiexec -np 1 python ex02.py"
   ]
  },
  {
   "cell_type": "code",
   "execution_count": 233,
   "id": "9aa498b9",
   "metadata": {},
   "outputs": [
    {
     "name": "stdout",
     "output_type": "stream",
     "text": [
      "shape in rank 1, is: (5000, 10000)\n",
      "shape in rank 0, is: (5000, 10000)\n",
      "finallyyyyy.... (10000, 10000)\n",
      "Time in rank 0 is: 62.28562092781067\n"
     ]
    }
   ],
   "source": [
    "!mpiexec -np 2 python ex02.py"
   ]
  },
  {
   "cell_type": "code",
   "execution_count": 234,
   "id": "776bcadb",
   "metadata": {},
   "outputs": [
    {
     "name": "stdout",
     "output_type": "stream",
     "text": [
      "shape in rank 1, is: (3333, 10000)\n",
      "shape in rank 2, is: (3333, 10000)\n",
      "shape in rank 0, is: (3333, 10000)\n",
      "finallyyyyy.... (9999, 10000)\n",
      "Time in rank 0 is: 62.819145917892456\n"
     ]
    }
   ],
   "source": [
    "!mpiexec -np 3 python ex02.py"
   ]
  },
  {
   "cell_type": "code",
   "execution_count": 236,
   "id": "51fc78b6",
   "metadata": {
    "scrolled": true
   },
   "outputs": [
    {
     "name": "stdout",
     "output_type": "stream",
     "text": [
      "shape in rank 1, is: (2500, 10000)\n",
      "shape in rank 2, is: (2500, 10000)\n",
      "shape in rank 3, is: (2500, 10000)\n",
      "\n",
      "===================================================================================\n",
      "=   BAD TERMINATION OF ONE OF YOUR APPLICATION PROCESSES\n",
      "=   PID 25456 RUNNING AT mansoor\n",
      "=   EXIT CODE: 9\n",
      "=   CLEANING UP REMAINING PROCESSES\n",
      "=   YOU CAN IGNORE THE BELOW CLEANUP MESSAGES\n",
      "===================================================================================\n",
      "YOUR APPLICATION TERMINATED WITH THE EXIT STRING: Killed (signal 9)\n",
      "This typically refers to a problem with your application.\n",
      "Please see the FAQ page for debugging suggestions\n"
     ]
    }
   ],
   "source": [
    "!mpiexec -np 4 python ex02.py"
   ]
  },
  {
   "cell_type": "markdown",
   "id": "3bcc7513",
   "metadata": {},
   "source": [
    "## $\\color{red}{\\text{Report 2_}}$\n",
    "----------------\n",
    "#### Table of Times for 2"
   ]
  },
  {
   "cell_type": "markdown",
   "id": "1c7e27d9",
   "metadata": {},
   "source": [
    "| N   | P=1    | P=2    | P=3    | P=4    | \n",
    "|:-------------|:-----------|:-----------|:-----------|:-----------|\n",
    "| 10**2   | 0.0209   | 0.00731   |  0.00382  |  0.0026   | \n",
    "| 10**3  | 2.0437    | 0.5822    | 0.3003    |  0.2357   | \n",
    "| 10**4   | 207.293    | 62.285  | 62.819    | EXIT CODE: 9    | "
   ]
  },
  {
   "cell_type": "markdown",
   "id": "096e5583",
   "metadata": {},
   "source": [
    "- Here we can clearly see the speed up in all the sizes with more workers\n",
    "- Only when N=10^4 the program exits.\n",
    "-**The reason why it has speed is the way we are performing our task which is one by one. when we have vector summation/multiplication the speed is overall faster than operational summation/multiplication but by adding extra workers we don't see imporvements.**"
   ]
  },
  {
   "cell_type": "markdown",
   "id": "d734edf2",
   "metadata": {},
   "source": [
    "**$\\color{green}{\\text{Strategy}}$**\n",
    "------------------\n",
    "SAME AS PREVIOUS\n",
    "\n",
    "$\\color{Blue}{\\text{When Rank==0:}}$\n",
    "\n",
    "0. First We make a batch based on the data size and number of workers.\n",
    "1. Rank0 always start the program by initializing the matrices.\n",
    "2. Next we stack the data together to send it to other processes easily.\n",
    "3. Rank0 send the stacked data to all other processes with a specific tag.\n",
    "4. Rank0 itself receives the batch of the data and perform the summation.\n",
    "5. Rank0 waits until other processes do their task and send the data to Rank0, as soon as it receives the data it first append to a list and at final stage it concatenate all members of the list to make the final data.\n",
    "\n",
    "$\\color{brown}{\\text{When Other Ranks:}}$\n",
    "\n",
    "0. Since we use Send/Recv we need to create a buffer before receiving the data.\n",
    "1. The data is received from process 0 to other processes, the data is put in the buffer.\n",
    "2. The summation is peformed and the result is going to be sent to the main process, but first the shape is sent to be used for size buffer for the data.\n",
    "3. The result is sent to process 0\n",
    "\n",
    "End:\n",
    "- After all the processors did their task and sent their data back to master processor, the program will end"
   ]
  },
  {
   "cell_type": "code",
   "execution_count": null,
   "id": "d6fdfe3e",
   "metadata": {},
   "outputs": [],
   "source": []
  }
 ],
 "metadata": {
  "kernelspec": {
   "display_name": "Python 3",
   "language": "python",
   "name": "python3"
  },
  "language_info": {
   "codemirror_mode": {
    "name": "ipython",
    "version": 3
   },
   "file_extension": ".py",
   "mimetype": "text/x-python",
   "name": "python",
   "nbconvert_exporter": "python",
   "pygments_lexer": "ipython3",
   "version": "3.8.8"
  }
 },
 "nbformat": 4,
 "nbformat_minor": 5
}
